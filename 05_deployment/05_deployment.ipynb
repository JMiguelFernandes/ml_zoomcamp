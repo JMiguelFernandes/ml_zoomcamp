{
 "cells": [
  {
   "cell_type": "markdown",
   "id": "b7538507-97c7-47ce-9d47-5f45628ae8d7",
   "metadata": {},
   "source": [
    "## Question 1\n",
    "2021.5.29"
   ]
  },
  {
   "cell_type": "markdown",
   "id": "13e235a5-a027-44d6-8bf0-3b9e4f6ed44a",
   "metadata": {},
   "source": [
    "## Question 2\n",
    "\n",
    "sha256:121f78d6564000dc5e968394f45aac87981fcaaf2be40cfcd8f07b2baa1e1829"
   ]
  },
  {
   "cell_type": "markdown",
   "id": "ee2c5ab4-11ab-450a-b616-9e42c4ae891a",
   "metadata": {},
   "source": [
    "## Question 3"
   ]
  },
  {
   "cell_type": "code",
   "execution_count": 11,
   "id": "0fe89a5a-8aae-4902-b4e9-7f7b4e0c539c",
   "metadata": {},
   "outputs": [],
   "source": [
    "import pickle"
   ]
  },
  {
   "cell_type": "code",
   "execution_count": 12,
   "id": "22ff46c0-5f3b-4a85-9f89-09816e949a72",
   "metadata": {},
   "outputs": [
    {
     "name": "stderr",
     "output_type": "stream",
     "text": [
      "C:\\Users\\admin\\miniconda3\\envs\\gamelaunch\\lib\\site-packages\\sklearn\\base.py:310: UserWarning: Trying to unpickle estimator DictVectorizer from version 1.0 when using version 0.24.2. This might lead to breaking code or invalid results. Use at your own risk.\n",
      "  warnings.warn(\n"
     ]
    }
   ],
   "source": [
    "with open(\"dv.bin\", \"rb\") as file_in:\n",
    "    dv = pickle.load(file_in)"
   ]
  },
  {
   "cell_type": "code",
   "execution_count": 13,
   "id": "ad89f6d5-1621-4ea8-91b6-da862052e1a3",
   "metadata": {},
   "outputs": [
    {
     "data": {
      "text/plain": [
       "DictVectorizer(sparse=False)"
      ]
     },
     "execution_count": 13,
     "metadata": {},
     "output_type": "execute_result"
    }
   ],
   "source": [
    "dv"
   ]
  },
  {
   "cell_type": "code",
   "execution_count": 14,
   "id": "4d28ae3b-f8d9-4fc6-b92d-dca85343c480",
   "metadata": {},
   "outputs": [
    {
     "name": "stderr",
     "output_type": "stream",
     "text": [
      "C:\\Users\\admin\\miniconda3\\envs\\gamelaunch\\lib\\site-packages\\sklearn\\base.py:310: UserWarning: Trying to unpickle estimator LogisticRegression from version 1.0 when using version 0.24.2. This might lead to breaking code or invalid results. Use at your own risk.\n",
      "  warnings.warn(\n"
     ]
    },
    {
     "data": {
      "text/plain": [
       "LogisticRegression()"
      ]
     },
     "execution_count": 14,
     "metadata": {},
     "output_type": "execute_result"
    }
   ],
   "source": [
    "with open(\"model1.bin\", \"rb\") as file_in:\n",
    "    model1 = pickle.load(file_in)\n",
    "    \n",
    "model1"
   ]
  },
  {
   "cell_type": "code",
   "execution_count": 15,
   "id": "9742df61-1686-4f8d-8453-580f6135720b",
   "metadata": {},
   "outputs": [],
   "source": [
    "customer = {\"contract\": \"two_year\", \"tenure\": 12, \"monthlycharges\": 19.7}"
   ]
  },
  {
   "cell_type": "code",
   "execution_count": 16,
   "id": "b125fd42-8353-4b7b-9256-fbd43337d98a",
   "metadata": {},
   "outputs": [
    {
     "data": {
      "text/plain": [
       "0.11549580587832914"
      ]
     },
     "execution_count": 16,
     "metadata": {},
     "output_type": "execute_result"
    }
   ],
   "source": [
    "def churn_prediction(customer):\n",
    "    return(model1.predict_proba(dv.transform(customer))[0,1])\n",
    "\n",
    "churn_prediction(customer)"
   ]
  },
  {
   "cell_type": "markdown",
   "id": "bb74cdd9-b937-4055-a630-329ec91a5abd",
   "metadata": {},
   "source": [
    "## Question 4\n",
    "\n",
    "The flask code is located at \"/churn_prediction.py\" and was deployed with waitress. To do that, run this:\n",
    "    \n",
    "    waitress-serve --listen=0.0.0.0:9696 churn_prediction:app"
   ]
  },
  {
   "cell_type": "code",
   "execution_count": 17,
   "id": "7b3e8ea7-38f8-4a6b-8937-99fa533743fd",
   "metadata": {},
   "outputs": [],
   "source": [
    "import requests\n",
    "\n",
    "url = \"http://localhost:9696/churn_prediction\"\n",
    "response = requests.post(url, json={\"contract\": \"two_year\", \"tenure\": 1, \"monthlycharges\": 10})"
   ]
  },
  {
   "cell_type": "code",
   "execution_count": 18,
   "id": "981fb7c1-b7df-49fa-9f9b-b815d5661dc6",
   "metadata": {},
   "outputs": [
    {
     "data": {
      "text/plain": [
       "{'churn_probability': 0.9988892771007961}"
      ]
     },
     "execution_count": 18,
     "metadata": {},
     "output_type": "execute_result"
    }
   ],
   "source": [
    "response.json()"
   ]
  },
  {
   "cell_type": "markdown",
   "id": "05cfacb7-ad68-45d1-8843-fe7c1e9a28af",
   "metadata": {},
   "source": [
    "## Question 5 \n",
    "\n",
    "sha256:5f72caf0c6539e569c96c046ce680071507f45224e6a7f7b3e4cf3a9da9dd553"
   ]
  },
  {
   "cell_type": "markdown",
   "id": "b4d45ca5-aa86-41b4-88c4-0d2e61f7ae18",
   "metadata": {},
   "source": [
    "## Question 6\n",
    "\n",
    "The flask code was deployed in a Docker container this time. Check the dockerfile in the current directory for more info on how the container was built. To build the container, these two commands were run from the directory containing the dockerfile:\n",
    "\n",
    "    docker build -t churn_prediction .\n",
    "\n",
    "\n",
    "    winpty docker run -it --rm -p 9696:9696 churn_prediction\n",
    "\n",
    "Notes for when I try to replicate this process:\n",
    "- `-it -rm` are there so that the image is not left running when we exit\n",
    "- `-p 9696:9696` maps the port 9696 in the container to the port 9696 in my laptop; this way, when something sends a request to the port 9696 in my laptop, it will be redirected to the container (which we exposed in the dockerfile)\n",
    "- if i want to do anything in the container, adding `--entrypoint=bash` will open a shell inside the container, where I can see what's in the container and play around there"
   ]
  },
  {
   "cell_type": "code",
   "execution_count": 22,
   "id": "8475360d-35cd-4fe7-9e3d-fc6eb7baaae8",
   "metadata": {},
   "outputs": [],
   "source": [
    "customer = {\"contract\": \"two_year\", \"tenure\": 12, \"monthlycharges\": 10}\n",
    "response = requests.post(url, json=customer)"
   ]
  },
  {
   "cell_type": "code",
   "execution_count": 23,
   "id": "e45d142a-e3cc-44e6-a2ee-161525f79602",
   "metadata": {},
   "outputs": [
    {
     "data": {
      "text/plain": [
       "{'churn_probability': 0.7284944888182928}"
      ]
     },
     "execution_count": 23,
     "metadata": {},
     "output_type": "execute_result"
    }
   ],
   "source": [
    "response.json()"
   ]
  }
 ],
 "metadata": {
  "kernelspec": {
   "display_name": "Python 3 (ipykernel)",
   "language": "python",
   "name": "python3"
  },
  "language_info": {
   "codemirror_mode": {
    "name": "ipython",
    "version": 3
   },
   "file_extension": ".py",
   "mimetype": "text/x-python",
   "name": "python",
   "nbconvert_exporter": "python",
   "pygments_lexer": "ipython3",
   "version": "3.9.6"
  }
 },
 "nbformat": 4,
 "nbformat_minor": 5
}
