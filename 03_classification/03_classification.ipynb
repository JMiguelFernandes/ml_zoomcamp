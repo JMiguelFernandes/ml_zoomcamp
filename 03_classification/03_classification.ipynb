{
 "cells": [
  {
   "cell_type": "code",
   "execution_count": 66,
   "id": "c61a911b-06fb-4e55-a2ba-19d5b3be28b0",
   "metadata": {
    "tags": []
   },
   "outputs": [],
   "source": [
    "import pandas as pd\n",
    "import numpy as np\n",
    "\n",
    "from sklearn.model_selection import train_test_split\n",
    "from sklearn.metrics import mutual_info_score, accuracy_score, mean_squared_error\n",
    "from sklearn.feature_extraction import DictVectorizer\n",
    "from sklearn.linear_model import LogisticRegression, Ridge"
   ]
  },
  {
   "cell_type": "code",
   "execution_count": 2,
   "id": "a2daa1d8-99e1-4933-9b63-00bf21b298ea",
   "metadata": {
    "tags": []
   },
   "outputs": [],
   "source": [
    "use_cols = [\"neighbourhood_group\",\n",
    "            \"room_type\",\n",
    "            \"latitude\",\n",
    "            \"longitude\",\n",
    "            \"price\",\n",
    "            \"minimum_nights\",\n",
    "            \"number_of_reviews\",\n",
    "            \"reviews_per_month\",\n",
    "            \"calculated_host_listings_count\",\n",
    "            \"availability_365\"]\n",
    "data = pd.read_csv(\"AB_NYC_2019.csv\", usecols=use_cols)"
   ]
  },
  {
   "cell_type": "code",
   "execution_count": 3,
   "id": "b44a7c79-22c3-4d59-93eb-fdf2a5187aa7",
   "metadata": {
    "tags": []
   },
   "outputs": [
    {
     "data": {
      "text/html": [
       "<div>\n",
       "<style scoped>\n",
       "    .dataframe tbody tr th:only-of-type {\n",
       "        vertical-align: middle;\n",
       "    }\n",
       "\n",
       "    .dataframe tbody tr th {\n",
       "        vertical-align: top;\n",
       "    }\n",
       "\n",
       "    .dataframe thead th {\n",
       "        text-align: right;\n",
       "    }\n",
       "</style>\n",
       "<table border=\"1\" class=\"dataframe\">\n",
       "  <thead>\n",
       "    <tr style=\"text-align: right;\">\n",
       "      <th></th>\n",
       "      <th>neighbourhood_group</th>\n",
       "      <th>latitude</th>\n",
       "      <th>longitude</th>\n",
       "      <th>room_type</th>\n",
       "      <th>price</th>\n",
       "      <th>minimum_nights</th>\n",
       "      <th>number_of_reviews</th>\n",
       "      <th>reviews_per_month</th>\n",
       "      <th>calculated_host_listings_count</th>\n",
       "      <th>availability_365</th>\n",
       "    </tr>\n",
       "  </thead>\n",
       "  <tbody>\n",
       "    <tr>\n",
       "      <th>0</th>\n",
       "      <td>Brooklyn</td>\n",
       "      <td>40.64749</td>\n",
       "      <td>-73.97237</td>\n",
       "      <td>Private room</td>\n",
       "      <td>149</td>\n",
       "      <td>1</td>\n",
       "      <td>9</td>\n",
       "      <td>0.21</td>\n",
       "      <td>6</td>\n",
       "      <td>365</td>\n",
       "    </tr>\n",
       "    <tr>\n",
       "      <th>1</th>\n",
       "      <td>Manhattan</td>\n",
       "      <td>40.75362</td>\n",
       "      <td>-73.98377</td>\n",
       "      <td>Entire home/apt</td>\n",
       "      <td>225</td>\n",
       "      <td>1</td>\n",
       "      <td>45</td>\n",
       "      <td>0.38</td>\n",
       "      <td>2</td>\n",
       "      <td>355</td>\n",
       "    </tr>\n",
       "    <tr>\n",
       "      <th>2</th>\n",
       "      <td>Manhattan</td>\n",
       "      <td>40.80902</td>\n",
       "      <td>-73.94190</td>\n",
       "      <td>Private room</td>\n",
       "      <td>150</td>\n",
       "      <td>3</td>\n",
       "      <td>0</td>\n",
       "      <td>NaN</td>\n",
       "      <td>1</td>\n",
       "      <td>365</td>\n",
       "    </tr>\n",
       "    <tr>\n",
       "      <th>3</th>\n",
       "      <td>Brooklyn</td>\n",
       "      <td>40.68514</td>\n",
       "      <td>-73.95976</td>\n",
       "      <td>Entire home/apt</td>\n",
       "      <td>89</td>\n",
       "      <td>1</td>\n",
       "      <td>270</td>\n",
       "      <td>4.64</td>\n",
       "      <td>1</td>\n",
       "      <td>194</td>\n",
       "    </tr>\n",
       "    <tr>\n",
       "      <th>4</th>\n",
       "      <td>Manhattan</td>\n",
       "      <td>40.79851</td>\n",
       "      <td>-73.94399</td>\n",
       "      <td>Entire home/apt</td>\n",
       "      <td>80</td>\n",
       "      <td>10</td>\n",
       "      <td>9</td>\n",
       "      <td>0.10</td>\n",
       "      <td>1</td>\n",
       "      <td>0</td>\n",
       "    </tr>\n",
       "  </tbody>\n",
       "</table>\n",
       "</div>"
      ],
      "text/plain": [
       "  neighbourhood_group  latitude  longitude        room_type  price  \\\n",
       "0            Brooklyn  40.64749  -73.97237     Private room    149   \n",
       "1           Manhattan  40.75362  -73.98377  Entire home/apt    225   \n",
       "2           Manhattan  40.80902  -73.94190     Private room    150   \n",
       "3            Brooklyn  40.68514  -73.95976  Entire home/apt     89   \n",
       "4           Manhattan  40.79851  -73.94399  Entire home/apt     80   \n",
       "\n",
       "   minimum_nights  number_of_reviews  reviews_per_month  \\\n",
       "0               1                  9               0.21   \n",
       "1               1                 45               0.38   \n",
       "2               3                  0                NaN   \n",
       "3               1                270               4.64   \n",
       "4              10                  9               0.10   \n",
       "\n",
       "   calculated_host_listings_count  availability_365  \n",
       "0                               6               365  \n",
       "1                               2               355  \n",
       "2                               1               365  \n",
       "3                               1               194  \n",
       "4                               1                 0  "
      ]
     },
     "execution_count": 3,
     "metadata": {},
     "output_type": "execute_result"
    }
   ],
   "source": [
    "data.head()"
   ]
  },
  {
   "cell_type": "code",
   "execution_count": 4,
   "id": "b09328ca-61f7-4c09-bc46-edfbf4e17ebe",
   "metadata": {
    "tags": []
   },
   "outputs": [
    {
     "data": {
      "text/plain": [
       "neighbourhood_group                   0\n",
       "latitude                              0\n",
       "longitude                             0\n",
       "room_type                             0\n",
       "price                                 0\n",
       "minimum_nights                        0\n",
       "number_of_reviews                     0\n",
       "reviews_per_month                 10052\n",
       "calculated_host_listings_count        0\n",
       "availability_365                      0\n",
       "dtype: int64"
      ]
     },
     "execution_count": 4,
     "metadata": {},
     "output_type": "execute_result"
    }
   ],
   "source": [
    "data.isna().sum()"
   ]
  },
  {
   "cell_type": "code",
   "execution_count": 5,
   "id": "c1b80dd4-9441-4b52-ac54-cd6001fd7e4f",
   "metadata": {
    "tags": []
   },
   "outputs": [],
   "source": [
    "data = data.fillna(0)"
   ]
  },
  {
   "cell_type": "code",
   "execution_count": 6,
   "id": "1a15b270-2470-4639-8377-5cee260bc0a9",
   "metadata": {
    "tags": []
   },
   "outputs": [
    {
     "data": {
      "text/plain": [
       "0    Manhattan\n",
       "dtype: object"
      ]
     },
     "execution_count": 6,
     "metadata": {},
     "output_type": "execute_result"
    }
   ],
   "source": [
    "# Question 1\n",
    "\n",
    "data[\"neighbourhood_group\"].mode()"
   ]
  },
  {
   "cell_type": "code",
   "execution_count": 26,
   "id": "847953d3-296b-4737-a30b-414c9b5a2fb9",
   "metadata": {
    "tags": []
   },
   "outputs": [],
   "source": [
    "full_train, test = train_test_split(data, random_state=42, test_size=0.2)"
   ]
  },
  {
   "cell_type": "code",
   "execution_count": 27,
   "id": "c750ea44-4171-49ab-9ae2-0469fe553d31",
   "metadata": {
    "tags": []
   },
   "outputs": [],
   "source": [
    "train, val = train_test_split(full_train, random_state=42, test_size=0.25)"
   ]
  },
  {
   "cell_type": "code",
   "execution_count": 28,
   "id": "c1ba83ac-4698-43c8-861a-82de60572ba0",
   "metadata": {},
   "outputs": [],
   "source": [
    "y_full_train = full_train[\"price\"]\n",
    "y_train = train[\"price\"]\n",
    "y_val = val[\"price\"]\n",
    "y_test = test[\"price\"]"
   ]
  },
  {
   "cell_type": "code",
   "execution_count": 29,
   "id": "a81cca0c-e9dc-4b5a-a3b0-f8f05dd711c5",
   "metadata": {
    "tags": []
   },
   "outputs": [],
   "source": [
    "del full_train[\"price\"]\n",
    "del train[\"price\"]\n",
    "del val[\"price\"]\n",
    "del test[\"price\"]"
   ]
  },
  {
   "cell_type": "code",
   "execution_count": 30,
   "id": "f3671cd9-96fb-45e6-88e7-86c28cce1eee",
   "metadata": {
    "tags": []
   },
   "outputs": [
    {
     "data": {
      "text/plain": [
       "neighbourhood_group                object\n",
       "latitude                          float64\n",
       "longitude                         float64\n",
       "room_type                          object\n",
       "price                               int64\n",
       "minimum_nights                      int64\n",
       "number_of_reviews                   int64\n",
       "reviews_per_month                 float64\n",
       "calculated_host_listings_count      int64\n",
       "availability_365                    int64\n",
       "dtype: object"
      ]
     },
     "execution_count": 30,
     "metadata": {},
     "output_type": "execute_result"
    }
   ],
   "source": [
    "data.dtypes"
   ]
  },
  {
   "cell_type": "code",
   "execution_count": 31,
   "id": "dcef1717-9970-4d31-9ee0-daaa5f362b9a",
   "metadata": {
    "tags": []
   },
   "outputs": [
    {
     "data": {
      "text/html": [
       "<div>\n",
       "<style scoped>\n",
       "    .dataframe tbody tr th:only-of-type {\n",
       "        vertical-align: middle;\n",
       "    }\n",
       "\n",
       "    .dataframe tbody tr th {\n",
       "        vertical-align: top;\n",
       "    }\n",
       "\n",
       "    .dataframe thead th {\n",
       "        text-align: right;\n",
       "    }\n",
       "</style>\n",
       "<table border=\"1\" class=\"dataframe\">\n",
       "  <thead>\n",
       "    <tr style=\"text-align: right;\">\n",
       "      <th></th>\n",
       "      <th>latitude</th>\n",
       "      <th>longitude</th>\n",
       "      <th>minimum_nights</th>\n",
       "      <th>number_of_reviews</th>\n",
       "      <th>reviews_per_month</th>\n",
       "      <th>calculated_host_listings_count</th>\n",
       "      <th>availability_365</th>\n",
       "    </tr>\n",
       "  </thead>\n",
       "  <tbody>\n",
       "    <tr>\n",
       "      <th>latitude</th>\n",
       "      <td>1.000000</td>\n",
       "      <td>0.080301</td>\n",
       "      <td>0.027441</td>\n",
       "      <td>0.006246</td>\n",
       "      <td>0.007159</td>\n",
       "      <td>0.019375</td>\n",
       "      <td>0.005891</td>\n",
       "    </tr>\n",
       "    <tr>\n",
       "      <th>longitude</th>\n",
       "      <td>0.080301</td>\n",
       "      <td>1.000000</td>\n",
       "      <td>0.060660</td>\n",
       "      <td>0.055084</td>\n",
       "      <td>0.134642</td>\n",
       "      <td>0.117041</td>\n",
       "      <td>0.083666</td>\n",
       "    </tr>\n",
       "    <tr>\n",
       "      <th>minimum_nights</th>\n",
       "      <td>0.027441</td>\n",
       "      <td>0.060660</td>\n",
       "      <td>1.000000</td>\n",
       "      <td>0.076020</td>\n",
       "      <td>0.120703</td>\n",
       "      <td>0.118647</td>\n",
       "      <td>0.138901</td>\n",
       "    </tr>\n",
       "    <tr>\n",
       "      <th>number_of_reviews</th>\n",
       "      <td>0.006246</td>\n",
       "      <td>0.055084</td>\n",
       "      <td>0.076020</td>\n",
       "      <td>1.000000</td>\n",
       "      <td>0.590374</td>\n",
       "      <td>0.073167</td>\n",
       "      <td>0.174477</td>\n",
       "    </tr>\n",
       "    <tr>\n",
       "      <th>reviews_per_month</th>\n",
       "      <td>0.007159</td>\n",
       "      <td>0.134642</td>\n",
       "      <td>0.120703</td>\n",
       "      <td>0.590374</td>\n",
       "      <td>1.000000</td>\n",
       "      <td>0.048767</td>\n",
       "      <td>0.165376</td>\n",
       "    </tr>\n",
       "    <tr>\n",
       "      <th>calculated_host_listings_count</th>\n",
       "      <td>0.019375</td>\n",
       "      <td>0.117041</td>\n",
       "      <td>0.118647</td>\n",
       "      <td>0.073167</td>\n",
       "      <td>0.048767</td>\n",
       "      <td>1.000000</td>\n",
       "      <td>0.225913</td>\n",
       "    </tr>\n",
       "    <tr>\n",
       "      <th>availability_365</th>\n",
       "      <td>0.005891</td>\n",
       "      <td>0.083666</td>\n",
       "      <td>0.138901</td>\n",
       "      <td>0.174477</td>\n",
       "      <td>0.165376</td>\n",
       "      <td>0.225913</td>\n",
       "      <td>1.000000</td>\n",
       "    </tr>\n",
       "  </tbody>\n",
       "</table>\n",
       "</div>"
      ],
      "text/plain": [
       "                                latitude  longitude  minimum_nights  \\\n",
       "latitude                        1.000000   0.080301        0.027441   \n",
       "longitude                       0.080301   1.000000        0.060660   \n",
       "minimum_nights                  0.027441   0.060660        1.000000   \n",
       "number_of_reviews               0.006246   0.055084        0.076020   \n",
       "reviews_per_month               0.007159   0.134642        0.120703   \n",
       "calculated_host_listings_count  0.019375   0.117041        0.118647   \n",
       "availability_365                0.005891   0.083666        0.138901   \n",
       "\n",
       "                                number_of_reviews  reviews_per_month  \\\n",
       "latitude                                 0.006246           0.007159   \n",
       "longitude                                0.055084           0.134642   \n",
       "minimum_nights                           0.076020           0.120703   \n",
       "number_of_reviews                        1.000000           0.590374   \n",
       "reviews_per_month                        0.590374           1.000000   \n",
       "calculated_host_listings_count           0.073167           0.048767   \n",
       "availability_365                         0.174477           0.165376   \n",
       "\n",
       "                                calculated_host_listings_count  \\\n",
       "latitude                                              0.019375   \n",
       "longitude                                             0.117041   \n",
       "minimum_nights                                        0.118647   \n",
       "number_of_reviews                                     0.073167   \n",
       "reviews_per_month                                     0.048767   \n",
       "calculated_host_listings_count                        1.000000   \n",
       "availability_365                                      0.225913   \n",
       "\n",
       "                                availability_365  \n",
       "latitude                                0.005891  \n",
       "longitude                               0.083666  \n",
       "minimum_nights                          0.138901  \n",
       "number_of_reviews                       0.174477  \n",
       "reviews_per_month                       0.165376  \n",
       "calculated_host_listings_count          0.225913  \n",
       "availability_365                        1.000000  "
      ]
     },
     "execution_count": 31,
     "metadata": {},
     "output_type": "execute_result"
    }
   ],
   "source": [
    "# Question 2\n",
    "\n",
    "categorical = [\"neighbourhood_group\", \"room_type\"]\n",
    "numerical = [\"latitude\",\n",
    "             \"longitude\",\n",
    "             \"minimum_nights\",\n",
    "             \"number_of_reviews\",\n",
    "             \"reviews_per_month\",\n",
    "             \"calculated_host_listings_count\",\n",
    "             \"availability_365\"]\n",
    "\n",
    "train[numerical].corr().abs()"
   ]
  },
  {
   "cell_type": "markdown",
   "id": "ec1079c6-e698-4680-8202-bf56cca6f2a7",
   "metadata": {},
   "source": [
    "Biggest correlation is between `number_of_reviews` and `reviews_per_month`"
   ]
  },
  {
   "cell_type": "code",
   "execution_count": 32,
   "id": "b926b863-3f74-4914-b865-f59b5a34daca",
   "metadata": {
    "tags": []
   },
   "outputs": [
    {
     "data": {
      "text/plain": [
       "array([0, 0, 0, ..., 1, 0, 0])"
      ]
     },
     "execution_count": 32,
     "metadata": {},
     "output_type": "execute_result"
    }
   ],
   "source": [
    "above_average_train = np.where(y_train>=152, 1, 0)\n",
    "above_average_train"
   ]
  },
  {
   "cell_type": "code",
   "execution_count": 33,
   "id": "97478997-d6ff-4391-8881-64f7a6bb965f",
   "metadata": {
    "tags": []
   },
   "outputs": [
    {
     "data": {
      "text/plain": [
       "0.05"
      ]
     },
     "execution_count": 33,
     "metadata": {},
     "output_type": "execute_result"
    }
   ],
   "source": [
    "# Question 3\n",
    "\n",
    "round(mutual_info_score(above_average_train, train[\"neighbourhood_group\"]), 2)"
   ]
  },
  {
   "cell_type": "code",
   "execution_count": 34,
   "id": "1a4d651e-7be3-41cd-a8cf-0293c909cf0e",
   "metadata": {
    "tags": []
   },
   "outputs": [
    {
     "data": {
      "text/plain": [
       "0.14"
      ]
     },
     "execution_count": 34,
     "metadata": {},
     "output_type": "execute_result"
    }
   ],
   "source": [
    "round(mutual_info_score(above_average_train, train[\"room_type\"]), 2)"
   ]
  },
  {
   "cell_type": "markdown",
   "id": "d42b788d-d116-4e83-a660-b34ee95da56c",
   "metadata": {},
   "source": [
    "`room_type` has a higher mutual information score, 0.14"
   ]
  },
  {
   "cell_type": "code",
   "execution_count": 35,
   "id": "88f78f75-0ec0-415e-a4c4-8442a552d494",
   "metadata": {
    "tags": []
   },
   "outputs": [
    {
     "data": {
      "text/plain": [
       "<29337x15 sparse matrix of type '<class 'numpy.float64'>'\n",
       "\twith 264033 stored elements in Compressed Sparse Row format>"
      ]
     },
     "execution_count": 35,
     "metadata": {},
     "output_type": "execute_result"
    }
   ],
   "source": [
    "# Question 4\n",
    "\n",
    "def prepare_X(X):\n",
    "    return dv.transform(X.to_dict(orient=\"records\"))\n",
    "\n",
    "def prepare_y(y):\n",
    "    return np.where(y>=152, 1, 0)\n",
    "\n",
    "\n",
    "dv = DictVectorizer().fit(train.to_dict(orient=\"records\"))\n",
    "\n",
    "prepared_train = dv.transform(train.to_dict(orient=\"records\"))\n",
    "prepared_train"
   ]
  },
  {
   "cell_type": "code",
   "execution_count": 36,
   "id": "94297cbc-a8dc-4a16-aa25-b34edc27cf92",
   "metadata": {
    "tags": []
   },
   "outputs": [
    {
     "data": {
      "text/html": [
       "<div>\n",
       "<style scoped>\n",
       "    .dataframe tbody tr th:only-of-type {\n",
       "        vertical-align: middle;\n",
       "    }\n",
       "\n",
       "    .dataframe tbody tr th {\n",
       "        vertical-align: top;\n",
       "    }\n",
       "\n",
       "    .dataframe thead th {\n",
       "        text-align: right;\n",
       "    }\n",
       "</style>\n",
       "<table border=\"1\" class=\"dataframe\">\n",
       "  <thead>\n",
       "    <tr style=\"text-align: right;\">\n",
       "      <th></th>\n",
       "      <th>availability_365</th>\n",
       "      <th>calculated_host_listings_count</th>\n",
       "      <th>latitude</th>\n",
       "      <th>longitude</th>\n",
       "      <th>minimum_nights</th>\n",
       "      <th>neighbourhood_group=Bronx</th>\n",
       "      <th>neighbourhood_group=Brooklyn</th>\n",
       "      <th>neighbourhood_group=Manhattan</th>\n",
       "      <th>neighbourhood_group=Queens</th>\n",
       "      <th>neighbourhood_group=Staten Island</th>\n",
       "      <th>number_of_reviews</th>\n",
       "      <th>reviews_per_month</th>\n",
       "      <th>room_type=Entire home/apt</th>\n",
       "      <th>room_type=Private room</th>\n",
       "      <th>room_type=Shared room</th>\n",
       "    </tr>\n",
       "  </thead>\n",
       "  <tbody>\n",
       "    <tr>\n",
       "      <th>0</th>\n",
       "      <td>50.0</td>\n",
       "      <td>13.0</td>\n",
       "      <td>40.72760</td>\n",
       "      <td>-73.94495</td>\n",
       "      <td>3.0</td>\n",
       "      <td>0.0</td>\n",
       "      <td>1.0</td>\n",
       "      <td>0.0</td>\n",
       "      <td>0.0</td>\n",
       "      <td>0.0</td>\n",
       "      <td>29.0</td>\n",
       "      <td>0.70</td>\n",
       "      <td>1.0</td>\n",
       "      <td>0.0</td>\n",
       "      <td>0.0</td>\n",
       "    </tr>\n",
       "    <tr>\n",
       "      <th>1</th>\n",
       "      <td>7.0</td>\n",
       "      <td>1.0</td>\n",
       "      <td>40.70847</td>\n",
       "      <td>-74.00498</td>\n",
       "      <td>1.0</td>\n",
       "      <td>0.0</td>\n",
       "      <td>0.0</td>\n",
       "      <td>1.0</td>\n",
       "      <td>0.0</td>\n",
       "      <td>0.0</td>\n",
       "      <td>0.0</td>\n",
       "      <td>0.00</td>\n",
       "      <td>0.0</td>\n",
       "      <td>1.0</td>\n",
       "      <td>0.0</td>\n",
       "    </tr>\n",
       "    <tr>\n",
       "      <th>2</th>\n",
       "      <td>0.0</td>\n",
       "      <td>1.0</td>\n",
       "      <td>40.83149</td>\n",
       "      <td>-73.92766</td>\n",
       "      <td>40.0</td>\n",
       "      <td>1.0</td>\n",
       "      <td>0.0</td>\n",
       "      <td>0.0</td>\n",
       "      <td>0.0</td>\n",
       "      <td>0.0</td>\n",
       "      <td>0.0</td>\n",
       "      <td>0.00</td>\n",
       "      <td>1.0</td>\n",
       "      <td>0.0</td>\n",
       "      <td>0.0</td>\n",
       "    </tr>\n",
       "    <tr>\n",
       "      <th>3</th>\n",
       "      <td>0.0</td>\n",
       "      <td>1.0</td>\n",
       "      <td>40.66448</td>\n",
       "      <td>-73.99407</td>\n",
       "      <td>2.0</td>\n",
       "      <td>0.0</td>\n",
       "      <td>1.0</td>\n",
       "      <td>0.0</td>\n",
       "      <td>0.0</td>\n",
       "      <td>0.0</td>\n",
       "      <td>3.0</td>\n",
       "      <td>0.08</td>\n",
       "      <td>1.0</td>\n",
       "      <td>0.0</td>\n",
       "      <td>0.0</td>\n",
       "    </tr>\n",
       "    <tr>\n",
       "      <th>4</th>\n",
       "      <td>67.0</td>\n",
       "      <td>2.0</td>\n",
       "      <td>40.74118</td>\n",
       "      <td>-74.00012</td>\n",
       "      <td>1.0</td>\n",
       "      <td>0.0</td>\n",
       "      <td>0.0</td>\n",
       "      <td>1.0</td>\n",
       "      <td>0.0</td>\n",
       "      <td>0.0</td>\n",
       "      <td>48.0</td>\n",
       "      <td>1.80</td>\n",
       "      <td>0.0</td>\n",
       "      <td>1.0</td>\n",
       "      <td>0.0</td>\n",
       "    </tr>\n",
       "    <tr>\n",
       "      <th>...</th>\n",
       "      <td>...</td>\n",
       "      <td>...</td>\n",
       "      <td>...</td>\n",
       "      <td>...</td>\n",
       "      <td>...</td>\n",
       "      <td>...</td>\n",
       "      <td>...</td>\n",
       "      <td>...</td>\n",
       "      <td>...</td>\n",
       "      <td>...</td>\n",
       "      <td>...</td>\n",
       "      <td>...</td>\n",
       "      <td>...</td>\n",
       "      <td>...</td>\n",
       "      <td>...</td>\n",
       "    </tr>\n",
       "    <tr>\n",
       "      <th>29332</th>\n",
       "      <td>0.0</td>\n",
       "      <td>1.0</td>\n",
       "      <td>40.71748</td>\n",
       "      <td>-73.95685</td>\n",
       "      <td>6.0</td>\n",
       "      <td>0.0</td>\n",
       "      <td>1.0</td>\n",
       "      <td>0.0</td>\n",
       "      <td>0.0</td>\n",
       "      <td>0.0</td>\n",
       "      <td>5.0</td>\n",
       "      <td>0.13</td>\n",
       "      <td>0.0</td>\n",
       "      <td>1.0</td>\n",
       "      <td>0.0</td>\n",
       "    </tr>\n",
       "    <tr>\n",
       "      <th>29333</th>\n",
       "      <td>0.0</td>\n",
       "      <td>2.0</td>\n",
       "      <td>40.66397</td>\n",
       "      <td>-73.98538</td>\n",
       "      <td>1.0</td>\n",
       "      <td>0.0</td>\n",
       "      <td>1.0</td>\n",
       "      <td>0.0</td>\n",
       "      <td>0.0</td>\n",
       "      <td>0.0</td>\n",
       "      <td>7.0</td>\n",
       "      <td>0.17</td>\n",
       "      <td>0.0</td>\n",
       "      <td>1.0</td>\n",
       "      <td>0.0</td>\n",
       "    </tr>\n",
       "    <tr>\n",
       "      <th>29334</th>\n",
       "      <td>88.0</td>\n",
       "      <td>1.0</td>\n",
       "      <td>40.79994</td>\n",
       "      <td>-73.97001</td>\n",
       "      <td>1.0</td>\n",
       "      <td>0.0</td>\n",
       "      <td>0.0</td>\n",
       "      <td>1.0</td>\n",
       "      <td>0.0</td>\n",
       "      <td>0.0</td>\n",
       "      <td>1.0</td>\n",
       "      <td>0.64</td>\n",
       "      <td>0.0</td>\n",
       "      <td>1.0</td>\n",
       "      <td>0.0</td>\n",
       "    </tr>\n",
       "    <tr>\n",
       "      <th>29335</th>\n",
       "      <td>0.0</td>\n",
       "      <td>1.0</td>\n",
       "      <td>40.69585</td>\n",
       "      <td>-73.96344</td>\n",
       "      <td>60.0</td>\n",
       "      <td>0.0</td>\n",
       "      <td>1.0</td>\n",
       "      <td>0.0</td>\n",
       "      <td>0.0</td>\n",
       "      <td>0.0</td>\n",
       "      <td>0.0</td>\n",
       "      <td>0.00</td>\n",
       "      <td>0.0</td>\n",
       "      <td>1.0</td>\n",
       "      <td>0.0</td>\n",
       "    </tr>\n",
       "    <tr>\n",
       "      <th>29336</th>\n",
       "      <td>281.0</td>\n",
       "      <td>2.0</td>\n",
       "      <td>40.64438</td>\n",
       "      <td>-73.95484</td>\n",
       "      <td>7.0</td>\n",
       "      <td>0.0</td>\n",
       "      <td>1.0</td>\n",
       "      <td>0.0</td>\n",
       "      <td>0.0</td>\n",
       "      <td>0.0</td>\n",
       "      <td>15.0</td>\n",
       "      <td>0.49</td>\n",
       "      <td>1.0</td>\n",
       "      <td>0.0</td>\n",
       "      <td>0.0</td>\n",
       "    </tr>\n",
       "  </tbody>\n",
       "</table>\n",
       "<p>29337 rows × 15 columns</p>\n",
       "</div>"
      ],
      "text/plain": [
       "       availability_365  calculated_host_listings_count  latitude  longitude  \\\n",
       "0                  50.0                            13.0  40.72760  -73.94495   \n",
       "1                   7.0                             1.0  40.70847  -74.00498   \n",
       "2                   0.0                             1.0  40.83149  -73.92766   \n",
       "3                   0.0                             1.0  40.66448  -73.99407   \n",
       "4                  67.0                             2.0  40.74118  -74.00012   \n",
       "...                 ...                             ...       ...        ...   \n",
       "29332               0.0                             1.0  40.71748  -73.95685   \n",
       "29333               0.0                             2.0  40.66397  -73.98538   \n",
       "29334              88.0                             1.0  40.79994  -73.97001   \n",
       "29335               0.0                             1.0  40.69585  -73.96344   \n",
       "29336             281.0                             2.0  40.64438  -73.95484   \n",
       "\n",
       "       minimum_nights  neighbourhood_group=Bronx  \\\n",
       "0                 3.0                        0.0   \n",
       "1                 1.0                        0.0   \n",
       "2                40.0                        1.0   \n",
       "3                 2.0                        0.0   \n",
       "4                 1.0                        0.0   \n",
       "...               ...                        ...   \n",
       "29332             6.0                        0.0   \n",
       "29333             1.0                        0.0   \n",
       "29334             1.0                        0.0   \n",
       "29335            60.0                        0.0   \n",
       "29336             7.0                        0.0   \n",
       "\n",
       "       neighbourhood_group=Brooklyn  neighbourhood_group=Manhattan  \\\n",
       "0                               1.0                            0.0   \n",
       "1                               0.0                            1.0   \n",
       "2                               0.0                            0.0   \n",
       "3                               1.0                            0.0   \n",
       "4                               0.0                            1.0   \n",
       "...                             ...                            ...   \n",
       "29332                           1.0                            0.0   \n",
       "29333                           1.0                            0.0   \n",
       "29334                           0.0                            1.0   \n",
       "29335                           1.0                            0.0   \n",
       "29336                           1.0                            0.0   \n",
       "\n",
       "       neighbourhood_group=Queens  neighbourhood_group=Staten Island  \\\n",
       "0                             0.0                                0.0   \n",
       "1                             0.0                                0.0   \n",
       "2                             0.0                                0.0   \n",
       "3                             0.0                                0.0   \n",
       "4                             0.0                                0.0   \n",
       "...                           ...                                ...   \n",
       "29332                         0.0                                0.0   \n",
       "29333                         0.0                                0.0   \n",
       "29334                         0.0                                0.0   \n",
       "29335                         0.0                                0.0   \n",
       "29336                         0.0                                0.0   \n",
       "\n",
       "       number_of_reviews  reviews_per_month  room_type=Entire home/apt  \\\n",
       "0                   29.0               0.70                        1.0   \n",
       "1                    0.0               0.00                        0.0   \n",
       "2                    0.0               0.00                        1.0   \n",
       "3                    3.0               0.08                        1.0   \n",
       "4                   48.0               1.80                        0.0   \n",
       "...                  ...                ...                        ...   \n",
       "29332                5.0               0.13                        0.0   \n",
       "29333                7.0               0.17                        0.0   \n",
       "29334                1.0               0.64                        0.0   \n",
       "29335                0.0               0.00                        0.0   \n",
       "29336               15.0               0.49                        1.0   \n",
       "\n",
       "       room_type=Private room  room_type=Shared room  \n",
       "0                         0.0                    0.0  \n",
       "1                         1.0                    0.0  \n",
       "2                         0.0                    0.0  \n",
       "3                         0.0                    0.0  \n",
       "4                         1.0                    0.0  \n",
       "...                       ...                    ...  \n",
       "29332                     1.0                    0.0  \n",
       "29333                     1.0                    0.0  \n",
       "29334                     1.0                    0.0  \n",
       "29335                     1.0                    0.0  \n",
       "29336                     0.0                    0.0  \n",
       "\n",
       "[29337 rows x 15 columns]"
      ]
     },
     "execution_count": 36,
     "metadata": {},
     "output_type": "execute_result"
    }
   ],
   "source": [
    "# just to check if the DictVectorizer did what it should:\n",
    "pd.DataFrame(prepared_train.todense(), columns = dv.get_feature_names())"
   ]
  },
  {
   "cell_type": "code",
   "execution_count": 18,
   "id": "702ba7f3-c768-47d2-9100-26cfa8b21223",
   "metadata": {
    "tags": []
   },
   "outputs": [],
   "source": [
    "model = LogisticRegression(solver='lbfgs', C=1.0, random_state=42, max_iter = 10000)"
   ]
  },
  {
   "cell_type": "code",
   "execution_count": 37,
   "id": "09080052-5cc6-46bf-9f1a-0a5fd0120b2d",
   "metadata": {
    "tags": []
   },
   "outputs": [
    {
     "data": {
      "text/plain": [
       "LogisticRegression(max_iter=10000, random_state=42)"
      ]
     },
     "execution_count": 37,
     "metadata": {},
     "output_type": "execute_result"
    }
   ],
   "source": [
    "model.fit(prepared_train, above_average_train)"
   ]
  },
  {
   "cell_type": "code",
   "execution_count": 41,
   "id": "2d73d73b-9ec1-4731-887a-44fbc6edf744",
   "metadata": {},
   "outputs": [
    {
     "data": {
      "text/plain": [
       "<9779x15 sparse matrix of type '<class 'numpy.float64'>'\n",
       "\twith 88011 stored elements in Compressed Sparse Row format>"
      ]
     },
     "execution_count": 41,
     "metadata": {},
     "output_type": "execute_result"
    }
   ],
   "source": [
    "prepare_X(val)"
   ]
  },
  {
   "cell_type": "code",
   "execution_count": 42,
   "id": "a76e5831-bc38-45c2-8190-c8523af2703b",
   "metadata": {
    "tags": []
   },
   "outputs": [
    {
     "data": {
      "text/plain": [
       "array([0, 1, 0, ..., 0, 0, 1])"
      ]
     },
     "execution_count": 42,
     "metadata": {},
     "output_type": "execute_result"
    }
   ],
   "source": [
    "y_pred_val = model.predict(prepare_X(val))\n",
    "y_pred_val"
   ]
  },
  {
   "cell_type": "code",
   "execution_count": 43,
   "id": "a978caeb-776f-442d-8324-3602e5717225",
   "metadata": {
    "tags": []
   },
   "outputs": [
    {
     "data": {
      "text/plain": [
       "0.79"
      ]
     },
     "execution_count": 43,
     "metadata": {},
     "output_type": "execute_result"
    }
   ],
   "source": [
    "round(accuracy_score(y_pred_val, prepare_y(y_val)), 2)"
   ]
  },
  {
   "cell_type": "code",
   "execution_count": 44,
   "id": "5b9a4c63-e314-4dd1-9e5c-d0fe0fc09282",
   "metadata": {},
   "outputs": [
    {
     "data": {
      "text/plain": [
       "['latitude',\n",
       " 'longitude',\n",
       " 'minimum_nights',\n",
       " 'number_of_reviews',\n",
       " 'reviews_per_month',\n",
       " 'calculated_host_listings_count',\n",
       " 'availability_365',\n",
       " 'neighbourhood_group',\n",
       " 'room_type']"
      ]
     },
     "execution_count": 44,
     "metadata": {},
     "output_type": "execute_result"
    }
   ],
   "source": [
    "# Question 5\n",
    "\n",
    "features = numerical + categorical\n",
    "features"
   ]
  },
  {
   "cell_type": "code",
   "execution_count": 50,
   "id": "70447086-1d60-4de6-a558-418053071900",
   "metadata": {},
   "outputs": [],
   "source": [
    "accs = []\n",
    "\n",
    "for feature in features:\n",
    "    new_features = [i for i in features if i != feature]\n",
    "    \n",
    "    model = LogisticRegression(solver='lbfgs', C=1.0, random_state=42, max_iter = 10000)\n",
    "    model.fit(prepare_X(train[new_features]), prepare_y(y_train))\n",
    "    \n",
    "    y_pred = model.predict(prepare_X(val[new_features]))\n",
    "    accs.append((feature, accuracy_score(y_pred, prepare_y(y_val))))"
   ]
  },
  {
   "cell_type": "code",
   "execution_count": 52,
   "id": "92afb91c-1172-4efc-9418-223bccd8529b",
   "metadata": {},
   "outputs": [
    {
     "data": {
      "text/plain": [
       "[('latitude', 0.7867880151344718),\n",
       " ('longitude', 0.7869925350240311),\n",
       " ('minimum_nights', 0.7914919725943348),\n",
       " ('number_of_reviews', 0.7915942325391144),\n",
       " ('reviews_per_month', 0.790878412925657),\n",
       " ('calculated_host_listings_count', 0.7896512935883014),\n",
       " ('availability_365', 0.7812659781163718),\n",
       " ('neighbourhood_group', 0.7509970344616014),\n",
       " ('room_type', 0.7288066264444217)]"
      ]
     },
     "execution_count": 52,
     "metadata": {},
     "output_type": "execute_result"
    }
   ],
   "source": [
    "accs"
   ]
  },
  {
   "cell_type": "code",
   "execution_count": 51,
   "id": "b04dab85-65de-4e40-90d0-d82ad50a8426",
   "metadata": {},
   "outputs": [
    {
     "data": {
      "text/plain": [
       "0.7910829328152162"
      ]
     },
     "execution_count": 51,
     "metadata": {},
     "output_type": "execute_result"
    }
   ],
   "source": [
    "model = LogisticRegression(solver='lbfgs', C=1.0, random_state=42, max_iter = 10000)\n",
    "model.fit(prepare_X(train), prepare_y(y_train))\n",
    "y_pred = model.predict(prepare_X(val))\n",
    "original_acc = accuracy_score(y_pred, prepare_y(y_val))\n",
    "original_acc"
   ]
  },
  {
   "cell_type": "code",
   "execution_count": 54,
   "id": "ce1614af-ad29-4a68-b00f-67067f40caf7",
   "metadata": {},
   "outputs": [
    {
     "data": {
      "text/html": [
       "<div>\n",
       "<style scoped>\n",
       "    .dataframe tbody tr th:only-of-type {\n",
       "        vertical-align: middle;\n",
       "    }\n",
       "\n",
       "    .dataframe tbody tr th {\n",
       "        vertical-align: top;\n",
       "    }\n",
       "\n",
       "    .dataframe thead th {\n",
       "        text-align: right;\n",
       "    }\n",
       "</style>\n",
       "<table border=\"1\" class=\"dataframe\">\n",
       "  <thead>\n",
       "    <tr style=\"text-align: right;\">\n",
       "      <th></th>\n",
       "      <th>feature</th>\n",
       "      <th>accuracy</th>\n",
       "    </tr>\n",
       "  </thead>\n",
       "  <tbody>\n",
       "    <tr>\n",
       "      <th>0</th>\n",
       "      <td>latitude</td>\n",
       "      <td>0.786788</td>\n",
       "    </tr>\n",
       "    <tr>\n",
       "      <th>1</th>\n",
       "      <td>longitude</td>\n",
       "      <td>0.786993</td>\n",
       "    </tr>\n",
       "    <tr>\n",
       "      <th>2</th>\n",
       "      <td>minimum_nights</td>\n",
       "      <td>0.791492</td>\n",
       "    </tr>\n",
       "    <tr>\n",
       "      <th>3</th>\n",
       "      <td>number_of_reviews</td>\n",
       "      <td>0.791594</td>\n",
       "    </tr>\n",
       "    <tr>\n",
       "      <th>4</th>\n",
       "      <td>reviews_per_month</td>\n",
       "      <td>0.790878</td>\n",
       "    </tr>\n",
       "    <tr>\n",
       "      <th>5</th>\n",
       "      <td>calculated_host_listings_count</td>\n",
       "      <td>0.789651</td>\n",
       "    </tr>\n",
       "    <tr>\n",
       "      <th>6</th>\n",
       "      <td>availability_365</td>\n",
       "      <td>0.781266</td>\n",
       "    </tr>\n",
       "    <tr>\n",
       "      <th>7</th>\n",
       "      <td>neighbourhood_group</td>\n",
       "      <td>0.750997</td>\n",
       "    </tr>\n",
       "    <tr>\n",
       "      <th>8</th>\n",
       "      <td>room_type</td>\n",
       "      <td>0.728807</td>\n",
       "    </tr>\n",
       "  </tbody>\n",
       "</table>\n",
       "</div>"
      ],
      "text/plain": [
       "                          feature  accuracy\n",
       "0                        latitude  0.786788\n",
       "1                       longitude  0.786993\n",
       "2                  minimum_nights  0.791492\n",
       "3               number_of_reviews  0.791594\n",
       "4               reviews_per_month  0.790878\n",
       "5  calculated_host_listings_count  0.789651\n",
       "6                availability_365  0.781266\n",
       "7             neighbourhood_group  0.750997\n",
       "8                       room_type  0.728807"
      ]
     },
     "execution_count": 54,
     "metadata": {},
     "output_type": "execute_result"
    }
   ],
   "source": [
    "accs_df = pd.DataFrame(accs, columns = [\"feature\", \"accuracy\"])\n",
    "accs_df"
   ]
  },
  {
   "cell_type": "code",
   "execution_count": 61,
   "id": "da39faf2-285f-47d5-8656-bfbe07e2c503",
   "metadata": {},
   "outputs": [
    {
     "data": {
      "text/html": [
       "<div>\n",
       "<style scoped>\n",
       "    .dataframe tbody tr th:only-of-type {\n",
       "        vertical-align: middle;\n",
       "    }\n",
       "\n",
       "    .dataframe tbody tr th {\n",
       "        vertical-align: top;\n",
       "    }\n",
       "\n",
       "    .dataframe thead th {\n",
       "        text-align: right;\n",
       "    }\n",
       "</style>\n",
       "<table border=\"1\" class=\"dataframe\">\n",
       "  <thead>\n",
       "    <tr style=\"text-align: right;\">\n",
       "      <th></th>\n",
       "      <th>feature</th>\n",
       "      <th>accuracy</th>\n",
       "      <th>diffs</th>\n",
       "    </tr>\n",
       "  </thead>\n",
       "  <tbody>\n",
       "    <tr>\n",
       "      <th>0</th>\n",
       "      <td>latitude</td>\n",
       "      <td>0.786788</td>\n",
       "      <td>0.004295</td>\n",
       "    </tr>\n",
       "    <tr>\n",
       "      <th>1</th>\n",
       "      <td>longitude</td>\n",
       "      <td>0.786993</td>\n",
       "      <td>0.004090</td>\n",
       "    </tr>\n",
       "    <tr>\n",
       "      <th>2</th>\n",
       "      <td>minimum_nights</td>\n",
       "      <td>0.791492</td>\n",
       "      <td>0.000409</td>\n",
       "    </tr>\n",
       "    <tr>\n",
       "      <th>3</th>\n",
       "      <td>number_of_reviews</td>\n",
       "      <td>0.791594</td>\n",
       "      <td>0.000511</td>\n",
       "    </tr>\n",
       "    <tr>\n",
       "      <th>4</th>\n",
       "      <td>reviews_per_month</td>\n",
       "      <td>0.790878</td>\n",
       "      <td>0.000205</td>\n",
       "    </tr>\n",
       "    <tr>\n",
       "      <th>5</th>\n",
       "      <td>calculated_host_listings_count</td>\n",
       "      <td>0.789651</td>\n",
       "      <td>0.001432</td>\n",
       "    </tr>\n",
       "    <tr>\n",
       "      <th>6</th>\n",
       "      <td>availability_365</td>\n",
       "      <td>0.781266</td>\n",
       "      <td>0.009817</td>\n",
       "    </tr>\n",
       "    <tr>\n",
       "      <th>7</th>\n",
       "      <td>neighbourhood_group</td>\n",
       "      <td>0.750997</td>\n",
       "      <td>0.040086</td>\n",
       "    </tr>\n",
       "    <tr>\n",
       "      <th>8</th>\n",
       "      <td>room_type</td>\n",
       "      <td>0.728807</td>\n",
       "      <td>0.062276</td>\n",
       "    </tr>\n",
       "  </tbody>\n",
       "</table>\n",
       "</div>"
      ],
      "text/plain": [
       "                          feature  accuracy     diffs\n",
       "0                        latitude  0.786788  0.004295\n",
       "1                       longitude  0.786993  0.004090\n",
       "2                  minimum_nights  0.791492  0.000409\n",
       "3               number_of_reviews  0.791594  0.000511\n",
       "4               reviews_per_month  0.790878  0.000205\n",
       "5  calculated_host_listings_count  0.789651  0.001432\n",
       "6                availability_365  0.781266  0.009817\n",
       "7             neighbourhood_group  0.750997  0.040086\n",
       "8                       room_type  0.728807  0.062276"
      ]
     },
     "execution_count": 61,
     "metadata": {},
     "output_type": "execute_result"
    }
   ],
   "source": [
    "accs_df[\"diffs\"] = abs(accs_df[\"accuracy\"] - original_acc)\n",
    "accs_df"
   ]
  },
  {
   "cell_type": "code",
   "execution_count": 62,
   "id": "36320634-29bf-4d9d-a3cb-d79deeb1b91c",
   "metadata": {},
   "outputs": [
    {
     "data": {
      "text/html": [
       "<div>\n",
       "<style scoped>\n",
       "    .dataframe tbody tr th:only-of-type {\n",
       "        vertical-align: middle;\n",
       "    }\n",
       "\n",
       "    .dataframe tbody tr th {\n",
       "        vertical-align: top;\n",
       "    }\n",
       "\n",
       "    .dataframe thead th {\n",
       "        text-align: right;\n",
       "    }\n",
       "</style>\n",
       "<table border=\"1\" class=\"dataframe\">\n",
       "  <thead>\n",
       "    <tr style=\"text-align: right;\">\n",
       "      <th></th>\n",
       "      <th>feature</th>\n",
       "      <th>accuracy</th>\n",
       "      <th>diffs</th>\n",
       "    </tr>\n",
       "  </thead>\n",
       "  <tbody>\n",
       "    <tr>\n",
       "      <th>4</th>\n",
       "      <td>reviews_per_month</td>\n",
       "      <td>0.790878</td>\n",
       "      <td>0.000205</td>\n",
       "    </tr>\n",
       "  </tbody>\n",
       "</table>\n",
       "</div>"
      ],
      "text/plain": [
       "             feature  accuracy     diffs\n",
       "4  reviews_per_month  0.790878  0.000205"
      ]
     },
     "execution_count": 62,
     "metadata": {},
     "output_type": "execute_result"
    }
   ],
   "source": [
    "accs_df.loc[accs_df[\"diffs\"] == accs_df[\"diffs\"].min(),:]"
   ]
  },
  {
   "cell_type": "markdown",
   "id": "ae6f70c2-f816-4b0c-83d9-619efe0dfd1c",
   "metadata": {},
   "source": [
    "reviews_per_month has the least impact on the model"
   ]
  },
  {
   "cell_type": "code",
   "execution_count": 73,
   "id": "e69e32fb-4958-48bc-8f68-807b98e8cc56",
   "metadata": {},
   "outputs": [
    {
     "name": "stdout",
     "output_type": "stream",
     "text": [
      "0 0.506\n",
      "0.01 0.506\n",
      "0.1 0.506\n",
      "1 0.506\n",
      "10 0.506\n"
     ]
    }
   ],
   "source": [
    "# Question 6\n",
    "\n",
    "alphas = [0, 0.01, 0.1, 1, 10]\n",
    "\n",
    "for alpha in alphas:\n",
    "    model = Ridge(alpha=alpha).fit(prepare_X(train), np.log1p(y_train))\n",
    "    y_pred = model.predict(prepare_X(val))\n",
    "    print(alpha, round(mean_squared_error(y_pred, np.log1p(y_val), squared=False), 3))"
   ]
  },
  {
   "cell_type": "markdown",
   "id": "bbe1f89d-8fb3-45a5-b88c-b95d6aeebf76",
   "metadata": {},
   "source": [
    "Since they're all the same, we go with the smallest alpha, in this case, 0"
   ]
  },
  {
   "cell_type": "code",
   "execution_count": null,
   "id": "c52a6aef-0b49-4ecd-951a-2d8fd6355f89",
   "metadata": {},
   "outputs": [],
   "source": []
  }
 ],
 "metadata": {
  "kernelspec": {
   "display_name": "Python 3 (ipykernel)",
   "language": "python",
   "name": "python3"
  },
  "language_info": {
   "codemirror_mode": {
    "name": "ipython",
    "version": 3
   },
   "file_extension": ".py",
   "mimetype": "text/x-python",
   "name": "python",
   "nbconvert_exporter": "python",
   "pygments_lexer": "ipython3",
   "version": "3.9.6"
  }
 },
 "nbformat": 4,
 "nbformat_minor": 5
}
