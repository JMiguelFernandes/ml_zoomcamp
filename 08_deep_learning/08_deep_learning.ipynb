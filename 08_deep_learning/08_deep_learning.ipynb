{
 "cells": [
  {
   "cell_type": "code",
   "execution_count": 1,
   "id": "4dfd48f5-88c1-4915-855c-db7d9bc6efc2",
   "metadata": {},
   "outputs": [
    {
     "name": "stderr",
     "output_type": "stream",
     "text": [
      "C:\\Users\\admin\\miniconda3\\envs\\mlzoomcamp\\lib\\site-packages\\tensorflow\\python\\framework\\dtypes.py:516: FutureWarning: Passing (type, 1) or '1type' as a synonym of type is deprecated; in a future version of numpy, it will be understood as (type, (1,)) / '(1,)type'.\n",
      "  _np_qint8 = np.dtype([(\"qint8\", np.int8, 1)])\n",
      "C:\\Users\\admin\\miniconda3\\envs\\mlzoomcamp\\lib\\site-packages\\tensorflow\\python\\framework\\dtypes.py:517: FutureWarning: Passing (type, 1) or '1type' as a synonym of type is deprecated; in a future version of numpy, it will be understood as (type, (1,)) / '(1,)type'.\n",
      "  _np_quint8 = np.dtype([(\"quint8\", np.uint8, 1)])\n",
      "C:\\Users\\admin\\miniconda3\\envs\\mlzoomcamp\\lib\\site-packages\\tensorflow\\python\\framework\\dtypes.py:518: FutureWarning: Passing (type, 1) or '1type' as a synonym of type is deprecated; in a future version of numpy, it will be understood as (type, (1,)) / '(1,)type'.\n",
      "  _np_qint16 = np.dtype([(\"qint16\", np.int16, 1)])\n",
      "C:\\Users\\admin\\miniconda3\\envs\\mlzoomcamp\\lib\\site-packages\\tensorflow\\python\\framework\\dtypes.py:519: FutureWarning: Passing (type, 1) or '1type' as a synonym of type is deprecated; in a future version of numpy, it will be understood as (type, (1,)) / '(1,)type'.\n",
      "  _np_quint16 = np.dtype([(\"quint16\", np.uint16, 1)])\n",
      "C:\\Users\\admin\\miniconda3\\envs\\mlzoomcamp\\lib\\site-packages\\tensorflow\\python\\framework\\dtypes.py:520: FutureWarning: Passing (type, 1) or '1type' as a synonym of type is deprecated; in a future version of numpy, it will be understood as (type, (1,)) / '(1,)type'.\n",
      "  _np_qint32 = np.dtype([(\"qint32\", np.int32, 1)])\n",
      "C:\\Users\\admin\\miniconda3\\envs\\mlzoomcamp\\lib\\site-packages\\tensorflow\\python\\framework\\dtypes.py:525: FutureWarning: Passing (type, 1) or '1type' as a synonym of type is deprecated; in a future version of numpy, it will be understood as (type, (1,)) / '(1,)type'.\n",
      "  np_resource = np.dtype([(\"resource\", np.ubyte, 1)])\n",
      "C:\\Users\\admin\\miniconda3\\envs\\mlzoomcamp\\lib\\site-packages\\tensorboard\\compat\\tensorflow_stub\\dtypes.py:541: FutureWarning: Passing (type, 1) or '1type' as a synonym of type is deprecated; in a future version of numpy, it will be understood as (type, (1,)) / '(1,)type'.\n",
      "  _np_qint8 = np.dtype([(\"qint8\", np.int8, 1)])\n",
      "C:\\Users\\admin\\miniconda3\\envs\\mlzoomcamp\\lib\\site-packages\\tensorboard\\compat\\tensorflow_stub\\dtypes.py:542: FutureWarning: Passing (type, 1) or '1type' as a synonym of type is deprecated; in a future version of numpy, it will be understood as (type, (1,)) / '(1,)type'.\n",
      "  _np_quint8 = np.dtype([(\"quint8\", np.uint8, 1)])\n",
      "C:\\Users\\admin\\miniconda3\\envs\\mlzoomcamp\\lib\\site-packages\\tensorboard\\compat\\tensorflow_stub\\dtypes.py:543: FutureWarning: Passing (type, 1) or '1type' as a synonym of type is deprecated; in a future version of numpy, it will be understood as (type, (1,)) / '(1,)type'.\n",
      "  _np_qint16 = np.dtype([(\"qint16\", np.int16, 1)])\n",
      "C:\\Users\\admin\\miniconda3\\envs\\mlzoomcamp\\lib\\site-packages\\tensorboard\\compat\\tensorflow_stub\\dtypes.py:544: FutureWarning: Passing (type, 1) or '1type' as a synonym of type is deprecated; in a future version of numpy, it will be understood as (type, (1,)) / '(1,)type'.\n",
      "  _np_quint16 = np.dtype([(\"quint16\", np.uint16, 1)])\n",
      "C:\\Users\\admin\\miniconda3\\envs\\mlzoomcamp\\lib\\site-packages\\tensorboard\\compat\\tensorflow_stub\\dtypes.py:545: FutureWarning: Passing (type, 1) or '1type' as a synonym of type is deprecated; in a future version of numpy, it will be understood as (type, (1,)) / '(1,)type'.\n",
      "  _np_qint32 = np.dtype([(\"qint32\", np.int32, 1)])\n",
      "C:\\Users\\admin\\miniconda3\\envs\\mlzoomcamp\\lib\\site-packages\\tensorboard\\compat\\tensorflow_stub\\dtypes.py:550: FutureWarning: Passing (type, 1) or '1type' as a synonym of type is deprecated; in a future version of numpy, it will be understood as (type, (1,)) / '(1,)type'.\n",
      "  np_resource = np.dtype([(\"resource\", np.ubyte, 1)])\n"
     ]
    }
   ],
   "source": [
    "import tensorflow as tf\n",
    "from tensorflow import keras\n",
    "import numpy as np\n",
    "\n",
    "from tensorflow.keras.layers import Conv2D, MaxPooling2D, Flatten, Dense\n",
    "from tensorflow.keras.optimizers import SGD\n",
    "from tensorflow.keras.preprocessing.image import ImageDataGenerator"
   ]
  },
  {
   "cell_type": "code",
   "execution_count": 2,
   "id": "03223895-d1db-4daf-a9b5-124a16ed041a",
   "metadata": {},
   "outputs": [
    {
     "name": "stdout",
     "output_type": "stream",
     "text": [
      "WARNING:tensorflow:From C:\\Users\\admin\\miniconda3\\envs\\mlzoomcamp\\lib\\site-packages\\tensorflow\\python\\ops\\init_ops.py:1251: calling VarianceScaling.__init__ (from tensorflow.python.ops.init_ops) with dtype is deprecated and will be removed in a future version.\n",
      "Instructions for updating:\n",
      "Call initializer instance with the dtype argument instead of passing it to the constructor\n"
     ]
    }
   ],
   "source": [
    "inputs = keras.Input(shape=(150, 150, 3))\n",
    "conv_layer = Conv2D(filters=32, kernel_size=(3,3), activation=\"relu\", input_shape=(150, 150, 3))(inputs)\n",
    "pooling = MaxPooling2D(pool_size=(2,2))(conv_layer)\n",
    "flatten = Flatten()(pooling)\n",
    "dense64 = Dense(units=64, activation=\"relu\")(flatten)\n",
    "dense1 = Dense(1, activation=\"sigmoid\")(dense64)\n",
    "model = keras.Model(inputs, dense1)"
   ]
  },
  {
   "cell_type": "code",
   "execution_count": 3,
   "id": "e24a11b2-f6f4-44ef-9331-75614dfade04",
   "metadata": {},
   "outputs": [
    {
     "name": "stdout",
     "output_type": "stream",
     "text": [
      "WARNING:tensorflow:From C:\\Users\\admin\\miniconda3\\envs\\mlzoomcamp\\lib\\site-packages\\tensorflow\\python\\ops\\nn_impl.py:180: add_dispatch_support.<locals>.wrapper (from tensorflow.python.ops.array_ops) is deprecated and will be removed in a future version.\n",
      "Instructions for updating:\n",
      "Use tf.where in 2.0, which has the same broadcast rule as np.where\n"
     ]
    }
   ],
   "source": [
    "optimizer = SGD(lr=0.002, momentum=0.8)\n",
    "loss = keras.losses.BinaryCrossentropy()\n",
    "model.compile(optimizer=optimizer, loss=loss, metrics=['accuracy'])"
   ]
  },
  {
   "cell_type": "markdown",
   "id": "dee6ca14-94e0-4163-b6f9-900557f89a8d",
   "metadata": {},
   "source": [
    "### Question 1\n",
    "Best loss function for binary classification: binary cross entropy"
   ]
  },
  {
   "cell_type": "code",
   "execution_count": 4,
   "id": "39d0d041-e2fb-40f4-9c43-0ce6e3b180b5",
   "metadata": {},
   "outputs": [
    {
     "name": "stdout",
     "output_type": "stream",
     "text": [
      "Found 20000 images belonging to 2 classes.\n"
     ]
    }
   ],
   "source": [
    "train_generator = ImageDataGenerator(rescale=1./255)\n",
    "\n",
    "train_ds = train_generator.flow_from_directory(\n",
    "    './data/train',\n",
    "    target_size=(150, 150),\n",
    "    batch_size=20,\n",
    "    shuffle=True, \n",
    "    class_mode=\"binary\"\n",
    ")"
   ]
  },
  {
   "cell_type": "code",
   "execution_count": 5,
   "id": "3e6c7179-bd44-462a-b0d5-5c21d0a03b8b",
   "metadata": {},
   "outputs": [
    {
     "name": "stdout",
     "output_type": "stream",
     "text": [
      "Found 5000 images belonging to 2 classes.\n"
     ]
    }
   ],
   "source": [
    "validation_generator = ImageDataGenerator(rescale=1./255)\n",
    "\n",
    "validation_ds = validation_generator.flow_from_directory(\n",
    "    './data/validation',\n",
    "    target_size=(150, 150),\n",
    "    batch_size=20,\n",
    "    shuffle=True, \n",
    "    class_mode=\"binary\"\n",
    ")"
   ]
  },
  {
   "cell_type": "code",
   "execution_count": 6,
   "id": "1cb2f449-658f-4e97-b8b1-e886b90942fb",
   "metadata": {},
   "outputs": [
    {
     "name": "stdout",
     "output_type": "stream",
     "text": [
      "Model: \"model\"\n",
      "_________________________________________________________________\n",
      "Layer (type)                 Output Shape              Param #   \n",
      "=================================================================\n",
      "input_1 (InputLayer)         [(None, 150, 150, 3)]     0         \n",
      "_________________________________________________________________\n",
      "conv2d (Conv2D)              (None, 148, 148, 32)      896       \n",
      "_________________________________________________________________\n",
      "max_pooling2d (MaxPooling2D) (None, 74, 74, 32)        0         \n",
      "_________________________________________________________________\n",
      "flatten (Flatten)            (None, 175232)            0         \n",
      "_________________________________________________________________\n",
      "dense (Dense)                (None, 64)                11214912  \n",
      "_________________________________________________________________\n",
      "dense_1 (Dense)              (None, 1)                 65        \n",
      "=================================================================\n",
      "Total params: 11,215,873\n",
      "Trainable params: 11,215,873\n",
      "Non-trainable params: 0\n",
      "_________________________________________________________________\n"
     ]
    }
   ],
   "source": [
    "model.summary()"
   ]
  },
  {
   "cell_type": "markdown",
   "id": "90d3139c-a1f1-4d80-bb60-946f311af049",
   "metadata": {},
   "source": [
    "### Question 2\n",
    "Total number of params: 11,215,873"
   ]
  },
  {
   "cell_type": "code",
   "execution_count": 7,
   "id": "ec92103d-a11e-406a-b102-b65d7d135188",
   "metadata": {},
   "outputs": [
    {
     "name": "stdout",
     "output_type": "stream",
     "text": [
      "Epoch 1/10\n",
      "100/100 [==============================] - 31s 310ms/step - loss: 0.6960 - acc: 0.5150 - val_loss: 0.6859 - val_acc: 0.5170\n",
      "Epoch 2/10\n",
      "100/100 [==============================] - 30s 301ms/step - loss: 0.6811 - acc: 0.5580 - val_loss: 0.6683 - val_acc: 0.6090\n",
      "Epoch 3/10\n",
      "100/100 [==============================] - 27s 271ms/step - loss: 0.6738 - acc: 0.5820 - val_loss: 0.6609 - val_acc: 0.5880\n",
      "Epoch 4/10\n",
      "100/100 [==============================] - 27s 269ms/step - loss: 0.6676 - acc: 0.5805 - val_loss: 0.6524 - val_acc: 0.6210\n",
      "Epoch 5/10\n",
      "100/100 [==============================] - 27s 273ms/step - loss: 0.6546 - acc: 0.6140 - val_loss: 0.6402 - val_acc: 0.6390\n",
      "Epoch 6/10\n",
      "100/100 [==============================] - 27s 270ms/step - loss: 0.6581 - acc: 0.6030 - val_loss: 0.6336 - val_acc: 0.6560\n",
      "Epoch 7/10\n",
      "100/100 [==============================] - 27s 274ms/step - loss: 0.6513 - acc: 0.6115 - val_loss: 0.6419 - val_acc: 0.6190\n",
      "Epoch 8/10\n",
      "100/100 [==============================] - 27s 272ms/step - loss: 0.6476 - acc: 0.6160 - val_loss: 0.6312 - val_acc: 0.6620\n",
      "Epoch 9/10\n",
      "100/100 [==============================] - 27s 272ms/step - loss: 0.6417 - acc: 0.6220 - val_loss: 0.6246 - val_acc: 0.6460\n",
      "Epoch 10/10\n",
      "100/100 [==============================] - 27s 272ms/step - loss: 0.6276 - acc: 0.6390 - val_loss: 0.6151 - val_acc: 0.6480\n"
     ]
    }
   ],
   "source": [
    "history = model.fit(\n",
    "    train_ds,\n",
    "    steps_per_epoch=100,\n",
    "    epochs=10,\n",
    "    validation_data=validation_ds,\n",
    "    validation_steps=50\n",
    ")"
   ]
  },
  {
   "cell_type": "markdown",
   "id": "e3af0516-80a7-4a34-9b1e-b884d6c8b548",
   "metadata": {},
   "source": [
    "### Questions 3 and 4"
   ]
  },
  {
   "cell_type": "code",
   "execution_count": 8,
   "id": "f91cbc75-35b4-4b5d-833f-b32a7f990968",
   "metadata": {},
   "outputs": [
    {
     "data": {
      "text/plain": [
       "0.5941"
      ]
     },
     "execution_count": 8,
     "metadata": {},
     "output_type": "execute_result"
    }
   ],
   "source": [
    "np.mean(history.history[\"acc\"])"
   ]
  },
  {
   "cell_type": "code",
   "execution_count": 9,
   "id": "83e091c0-46db-4d56-a6b0-534074a0094f",
   "metadata": {},
   "outputs": [
    {
     "data": {
      "text/plain": [
       "0.019073115128329373"
      ]
     },
     "execution_count": 9,
     "metadata": {},
     "output_type": "execute_result"
    }
   ],
   "source": [
    "np.std(history.history[\"loss\"])"
   ]
  },
  {
   "cell_type": "markdown",
   "id": "3c894a79-1c2b-4af2-9e68-59ca263aa743",
   "metadata": {},
   "source": [
    "### Questions 5 and 6"
   ]
  },
  {
   "cell_type": "code",
   "execution_count": 10,
   "id": "5e0c4532-673d-4b02-bbb4-2d5ac513738f",
   "metadata": {},
   "outputs": [
    {
     "name": "stdout",
     "output_type": "stream",
     "text": [
      "Found 20000 images belonging to 2 classes.\n"
     ]
    }
   ],
   "source": [
    "train_generator = ImageDataGenerator(rescale=1./255, \n",
    "                                     rotation_range=40,\n",
    "                                     width_shift_range=0.2,\n",
    "                                     height_shift_range=0.2,\n",
    "                                     shear_range=0.2,\n",
    "                                     zoom_range=0.2,\n",
    "                                     horizontal_flip=True,\n",
    "                                     fill_mode='nearest')\n",
    "\n",
    "train_ds = train_generator.flow_from_directory(\n",
    "    './data/train',\n",
    "    target_size=(150, 150),\n",
    "    batch_size=32,\n",
    "    shuffle=True, \n",
    "    class_mode=\"binary\"\n",
    ")"
   ]
  },
  {
   "cell_type": "code",
   "execution_count": 11,
   "id": "76ef9832-aed9-4ac5-ba79-c48387697b61",
   "metadata": {},
   "outputs": [
    {
     "name": "stdout",
     "output_type": "stream",
     "text": [
      "Epoch 1/10\n",
      "100/100 [==============================] - 55s 554ms/step - loss: 0.6568 - acc: 0.6056 - val_loss: 0.6189 - val_acc: 0.6770\n",
      "Epoch 2/10\n",
      "100/100 [==============================] - 68s 678ms/step - loss: 0.6533 - acc: 0.5981 - val_loss: 0.6190 - val_acc: 0.6660\n",
      "Epoch 3/10\n",
      "100/100 [==============================] - 55s 545ms/step - loss: 0.6481 - acc: 0.6162 - val_loss: 0.6082 - val_acc: 0.6710\n",
      "Epoch 4/10\n",
      "100/100 [==============================] - 53s 529ms/step - loss: 0.6446 - acc: 0.6125 - val_loss: 0.6074 - val_acc: 0.6800\n",
      "Epoch 5/10\n",
      "100/100 [==============================] - 52s 525ms/step - loss: 0.6515 - acc: 0.6141 - val_loss: 0.6153 - val_acc: 0.6650\n",
      "Epoch 6/10\n",
      "100/100 [==============================] - 53s 529ms/step - loss: 0.6499 - acc: 0.6175 - val_loss: 0.6117 - val_acc: 0.6490\n",
      "Epoch 7/10\n",
      "100/100 [==============================] - 54s 545ms/step - loss: 0.6433 - acc: 0.6275 - val_loss: 0.6087 - val_acc: 0.6590\n",
      "Epoch 8/10\n",
      "100/100 [==============================] - 52s 521ms/step - loss: 0.6409 - acc: 0.6328 - val_loss: 0.5973 - val_acc: 0.6940\n",
      "Epoch 9/10\n",
      "100/100 [==============================] - 56s 562ms/step - loss: 0.6420 - acc: 0.6375 - val_loss: 0.5932 - val_acc: 0.6940\n",
      "Epoch 10/10\n",
      "100/100 [==============================] - 51s 506ms/step - loss: 0.6406 - acc: 0.6288 - val_loss: 0.6047 - val_acc: 0.6700\n"
     ]
    }
   ],
   "source": [
    "history = model.fit(\n",
    "    train_ds,\n",
    "    steps_per_epoch=100,\n",
    "    epochs=10,\n",
    "    validation_data=validation_ds,\n",
    "    validation_steps=50\n",
    ")"
   ]
  },
  {
   "cell_type": "code",
   "execution_count": 12,
   "id": "bf3e0e19-addf-4de0-99db-136d61583b00",
   "metadata": {},
   "outputs": [
    {
     "data": {
      "text/plain": [
       "0.608453786969185"
      ]
     },
     "execution_count": 12,
     "metadata": {},
     "output_type": "execute_result"
    }
   ],
   "source": [
    "np.mean(history.history[\"val_loss\"])"
   ]
  },
  {
   "cell_type": "code",
   "execution_count": 13,
   "id": "e56e9726-53c3-4b62-860b-e6f3d6f7e81f",
   "metadata": {},
   "outputs": [
    {
     "data": {
      "text/plain": [
       "0.6732"
      ]
     },
     "execution_count": 13,
     "metadata": {},
     "output_type": "execute_result"
    }
   ],
   "source": [
    "np.mean(history.history[\"val_acc\"][5:])"
   ]
  }
 ],
 "metadata": {
  "kernelspec": {
   "display_name": "Python 3 (ipykernel)",
   "language": "python",
   "name": "python3"
  },
  "language_info": {
   "codemirror_mode": {
    "name": "ipython",
    "version": 3
   },
   "file_extension": ".py",
   "mimetype": "text/x-python",
   "name": "python",
   "nbconvert_exporter": "python",
   "pygments_lexer": "ipython3",
   "version": "3.9.6"
  }
 },
 "nbformat": 4,
 "nbformat_minor": 5
}
